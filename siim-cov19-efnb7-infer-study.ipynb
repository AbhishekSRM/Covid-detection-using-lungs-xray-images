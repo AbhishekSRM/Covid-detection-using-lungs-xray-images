{
 "cells": [
  {
   "cell_type": "markdown",
   "id": "prompt-budget",
   "metadata": {
    "papermill": {
     "duration": 0.011459,
     "end_time": "2021-05-22T07:11:35.742179",
     "exception": false,
     "start_time": "2021-05-22T07:11:35.730720",
     "status": "completed"
    },
    "tags": []
   },
   "source": [
    "thanks to https://www.kaggle.com/xhlulu/siim-covid-19-convert-to-jpg-256px  \n",
    "train: https://www.kaggle.com/h053473666/siim-covid19-efnb7-train-study"
   ]
  },
  {
   "cell_type": "code",
   "execution_count": 1,
   "id": "excess-blink",
   "metadata": {
    "_kg_hide-input": true,
    "_kg_hide-output": true,
    "execution": {
     "iopub.execute_input": "2021-05-22T07:11:35.780216Z",
     "iopub.status.busy": "2021-05-22T07:11:35.779651Z",
     "iopub.status.idle": "2021-05-22T07:12:45.337171Z",
     "shell.execute_reply": "2021-05-22T07:12:45.336512Z",
     "shell.execute_reply.started": "2021-05-22T06:12:15.450391Z"
    },
    "papermill": {
     "duration": 69.584653,
     "end_time": "2021-05-22T07:12:45.337336",
     "exception": false,
     "start_time": "2021-05-22T07:11:35.752683",
     "status": "completed"
    },
    "tags": []
   },
   "outputs": [
    {
     "name": "stdout",
     "output_type": "stream",
     "text": [
      "\r\n",
      "Downloading and Extracting Packages\r\n",
      "######################################################################## | 100% \r\n",
      "Preparing transaction: - \b\bdone\r\n",
      "Verifying transaction: | \b\bdone\r\n",
      "Executing transaction: - \b\b\\ \b\bdone\r\n",
      "\r\n",
      "Downloading and Extracting Packages\r\n",
      "######################################################################## | 100% \r\n",
      "Preparing transaction: - \b\bdone\r\n",
      "Verifying transaction: | \b\bdone\r\n",
      "Executing transaction: - \b\b\\ \b\b| \b\b/ \b\bdone\r\n",
      "\r\n",
      "Downloading and Extracting Packages\r\n",
      "######################################################################## | 100% \r\n",
      "Preparing transaction: - \b\bdone\r\n",
      "Verifying transaction: | \b\bdone\r\n",
      "Executing transaction: - \b\bdone\r\n",
      "\r\n",
      "Downloading and Extracting Packages\r\n",
      "######################################################################## | 100% \r\n",
      "Preparing transaction: - \b\bdone\r\n",
      "Verifying transaction: | \b\bdone\r\n",
      "Executing transaction: - \b\b\\ \b\b| \b\b/ \b\b- \b\b\\ \b\b| \b\b/ \b\b- \b\b\\ \b\b| \b\b/ \b\b- \b\b\\ \b\b| \b\b/ \b\b- \b\b\\ \b\b| \b\b/ \b\bdone\r\n",
      "\r\n",
      "Downloading and Extracting Packages\r\n",
      "######################################################################## | 100% \r\n",
      "Preparing transaction: - \b\bdone\r\n",
      "Verifying transaction: | \b\bdone\r\n",
      "Executing transaction: - \b\bdone\r\n",
      "\r\n",
      "Downloading and Extracting Packages\r\n",
      "######################################################################## | 100% \r\n",
      "Preparing transaction: - \b\bdone\r\n",
      "Verifying transaction: | \b\bdone\r\n",
      "Executing transaction: - \b\b\\ \b\b| \b\b/ \b\b- \b\b\\ \b\b| \b\bdone\r\n"
     ]
    }
   ],
   "source": [
    "!conda install '/kaggle/input/pydicom-conda-helper/libjpeg-turbo-2.1.0-h7f98852_0.tar.bz2' -c conda-forge -y\n",
    "!conda install '/kaggle/input/pydicom-conda-helper/libgcc-ng-9.3.0-h2828fa1_19.tar.bz2' -c conda-forge -y\n",
    "!conda install '/kaggle/input/pydicom-conda-helper/gdcm-2.8.9-py37h500ead1_1.tar.bz2' -c conda-forge -y\n",
    "!conda install '/kaggle/input/pydicom-conda-helper/conda-4.10.1-py37h89c1867_0.tar.bz2' -c conda-forge -y\n",
    "!conda install '/kaggle/input/pydicom-conda-helper/certifi-2020.12.5-py37h89c1867_1.tar.bz2' -c conda-forge -y\n",
    "!conda install '/kaggle/input/pydicom-conda-helper/openssl-1.1.1k-h7f98852_0.tar.bz2' -c conda-forge -y"
   ]
  },
  {
   "cell_type": "code",
   "execution_count": 2,
   "id": "promising-bookmark",
   "metadata": {
    "_cell_guid": "b1076dfc-b9ad-4769-8c92-a6c4dae69d19",
    "_uuid": "8f2839f25d086af736a60e9eeb907d3b93b6e0e5",
    "execution": {
     "iopub.execute_input": "2021-05-22T07:12:45.396229Z",
     "iopub.status.busy": "2021-05-22T07:12:45.395220Z",
     "iopub.status.idle": "2021-05-22T07:12:45.402600Z",
     "shell.execute_reply": "2021-05-22T07:12:45.402197Z",
     "shell.execute_reply.started": "2021-05-22T06:14:14.610367Z"
    },
    "papermill": {
     "duration": 0.037548,
     "end_time": "2021-05-22T07:12:45.402706",
     "exception": false,
     "start_time": "2021-05-22T07:12:45.365158",
     "status": "completed"
    },
    "tags": []
   },
   "outputs": [],
   "source": [
    "import os\n",
    "\n",
    "from PIL import Image\n",
    "import pandas as pd\n",
    "from tqdm.auto import tqdm"
   ]
  },
  {
   "cell_type": "markdown",
   "id": "fifth-selling",
   "metadata": {
    "papermill": {
     "duration": 0.026101,
     "end_time": "2021-05-22T07:12:45.455429",
     "exception": false,
     "start_time": "2021-05-22T07:12:45.429328",
     "status": "completed"
    },
    "tags": []
   },
   "source": [
    "# .dcm to .png"
   ]
  },
  {
   "cell_type": "code",
   "execution_count": 3,
   "id": "civilian-netherlands",
   "metadata": {
    "execution": {
     "iopub.execute_input": "2021-05-22T07:12:45.514497Z",
     "iopub.status.busy": "2021-05-22T07:12:45.513745Z",
     "iopub.status.idle": "2021-05-22T07:12:45.665336Z",
     "shell.execute_reply": "2021-05-22T07:12:45.664835Z",
     "shell.execute_reply.started": "2021-05-22T06:14:16.951502Z"
    },
    "papermill": {
     "duration": 0.183521,
     "end_time": "2021-05-22T07:12:45.665473",
     "exception": false,
     "start_time": "2021-05-22T07:12:45.481952",
     "status": "completed"
    },
    "tags": []
   },
   "outputs": [],
   "source": [
    "import numpy as np\n",
    "import pydicom\n",
    "from pydicom.pixel_data_handlers.util import apply_voi_lut\n",
    "\n",
    "def read_xray(path, voi_lut = True, fix_monochrome = True):\n",
    "    # Original from: https://www.kaggle.com/raddar/convert-dicom-to-np-array-the-correct-way\n",
    "    dicom = pydicom.read_file(path)\n",
    "    \n",
    "    # VOI LUT (if available by DICOM device) is used to transform raw DICOM data to \n",
    "    # \"human-friendly\" view\n",
    "    if voi_lut:\n",
    "        data = apply_voi_lut(dicom.pixel_array, dicom)\n",
    "    else:\n",
    "        data = dicom.pixel_array\n",
    "               \n",
    "    # depending on this value, X-ray may look inverted - fix that:\n",
    "    if fix_monochrome and dicom.PhotometricInterpretation == \"MONOCHROME1\":\n",
    "        data = np.amax(data) - data\n",
    "        \n",
    "    data = data - np.min(data)\n",
    "    data = data / np.max(data)\n",
    "    data = (data * 255).astype(np.uint8)\n",
    "        \n",
    "    return data"
   ]
  },
  {
   "cell_type": "code",
   "execution_count": 4,
   "id": "checked-shanghai",
   "metadata": {
    "execution": {
     "iopub.execute_input": "2021-05-22T07:12:45.724730Z",
     "iopub.status.busy": "2021-05-22T07:12:45.723945Z",
     "iopub.status.idle": "2021-05-22T07:12:45.726734Z",
     "shell.execute_reply": "2021-05-22T07:12:45.726276Z",
     "shell.execute_reply.started": "2021-05-22T06:14:18.859669Z"
    },
    "papermill": {
     "duration": 0.034416,
     "end_time": "2021-05-22T07:12:45.726836",
     "exception": false,
     "start_time": "2021-05-22T07:12:45.692420",
     "status": "completed"
    },
    "tags": []
   },
   "outputs": [],
   "source": [
    "def resize(array, size, keep_ratio=False, resample=Image.LANCZOS):\n",
    "    # Original from: https://www.kaggle.com/xhlulu/vinbigdata-process-and-resize-to-image\n",
    "    im = Image.fromarray(array)\n",
    "    \n",
    "    if keep_ratio:\n",
    "        im.thumbnail((size, size), resample)\n",
    "    else:\n",
    "        im = im.resize((size, size), resample)\n",
    "    \n",
    "    return im"
   ]
  },
  {
   "cell_type": "code",
   "execution_count": 5,
   "id": "danish-connecticut",
   "metadata": {
    "execution": {
     "iopub.execute_input": "2021-05-22T07:12:45.788333Z",
     "iopub.status.busy": "2021-05-22T07:12:45.787555Z",
     "iopub.status.idle": "2021-05-22T07:21:18.373532Z",
     "shell.execute_reply": "2021-05-22T07:21:18.373105Z",
     "shell.execute_reply.started": "2021-05-22T06:14:20.101569Z"
    },
    "papermill": {
     "duration": 512.6198,
     "end_time": "2021-05-22T07:21:18.373659",
     "exception": false,
     "start_time": "2021-05-22T07:12:45.753859",
     "status": "completed"
    },
    "tags": []
   },
   "outputs": [
    {
     "data": {
      "application/vnd.jupyter.widget-view+json": {
       "model_id": "87d5ccc8a67d4965a1e3f9901b972cc8",
       "version_major": 2,
       "version_minor": 0
      },
      "text/plain": [
       "0it [00:00, ?it/s]"
      ]
     },
     "metadata": {},
     "output_type": "display_data"
    }
   ],
   "source": [
    "\n",
    "split = 'test'\n",
    "save_dir = f'/kaggle/tmp/{split}/'\n",
    "\n",
    "os.makedirs(save_dir, exist_ok=True)\n",
    "\n",
    "save_dir = f'/kaggle/tmp/{split}/study/'\n",
    "os.makedirs(save_dir, exist_ok=True)\n",
    "\n",
    "for dirname, _, filenames in tqdm(os.walk(f'../input/siim-covid19-detection/{split}')):\n",
    "    for file in filenames:\n",
    "        # set keep_ratio=True to have original aspect ratio\n",
    "        xray = read_xray(os.path.join(dirname, file))\n",
    "        im = resize(xray, size=600)  \n",
    "        study = dirname.split('/')[-2] + '_study.png'\n",
    "        im.save(os.path.join(save_dir, study))\n"
   ]
  },
  {
   "cell_type": "markdown",
   "id": "eastern-gates",
   "metadata": {
    "papermill": {
     "duration": 0.026301,
     "end_time": "2021-05-22T07:21:18.427054",
     "exception": false,
     "start_time": "2021-05-22T07:21:18.400753",
     "status": "completed"
    },
    "tags": []
   },
   "source": [
    "# predict"
   ]
  },
  {
   "cell_type": "code",
   "execution_count": 6,
   "id": "ranking-stadium",
   "metadata": {
    "execution": {
     "iopub.execute_input": "2021-05-22T07:21:18.488809Z",
     "iopub.status.busy": "2021-05-22T07:21:18.488336Z",
     "iopub.status.idle": "2021-05-22T07:21:18.542747Z",
     "shell.execute_reply": "2021-05-22T07:21:18.542349Z",
     "shell.execute_reply.started": "2021-05-22T06:23:45.967018Z"
    },
    "papermill": {
     "duration": 0.089461,
     "end_time": "2021-05-22T07:21:18.542856",
     "exception": false,
     "start_time": "2021-05-22T07:21:18.453395",
     "status": "completed"
    },
    "tags": []
   },
   "outputs": [],
   "source": [
    "import numpy as np \n",
    "import pandas as pd\n",
    "\n",
    "df = pd.read_csv('../input/siim-covid19-detection/sample_submission.csv')\n",
    "id_laststr_list  = []\n",
    "for i in range(df.shape[0]):\n",
    "    id_laststr_list.append(df.loc[i,'id'][-1])\n",
    "df['id_last_str'] = id_laststr_list\n",
    "\n",
    "study_len = df[df['id_last_str'] == 'y'].shape[0]"
   ]
  },
  {
   "cell_type": "code",
   "execution_count": 7,
   "id": "seeing-anime",
   "metadata": {
    "execution": {
     "iopub.execute_input": "2021-05-22T07:21:18.637745Z",
     "iopub.status.busy": "2021-05-22T07:21:18.616327Z",
     "iopub.status.idle": "2021-05-22T07:29:06.058473Z",
     "shell.execute_reply": "2021-05-22T07:29:06.058858Z",
     "shell.execute_reply.started": "2021-05-22T06:42:09.772690Z"
    },
    "papermill": {
     "duration": 467.489286,
     "end_time": "2021-05-22T07:29:06.059017",
     "exception": false,
     "start_time": "2021-05-22T07:21:18.569731",
     "status": "completed"
    },
    "tags": []
   },
   "outputs": [
    {
     "name": "stdout",
     "output_type": "stream",
     "text": [
      "Running on 1 replicas\n",
      "76/76 [==============================] - 67s 777ms/step\n",
      "76/76 [==============================] - 63s 778ms/step\n",
      "76/76 [==============================] - 63s 778ms/step\n",
      "76/76 [==============================] - 63s 777ms/step\n",
      "76/76 [==============================] - 63s 777ms/step\n"
     ]
    }
   ],
   "source": [
    "!pip install /kaggle/input/kerasapplications -q\n",
    "!pip install /kaggle/input/efficientnet-keras-source-code/ -q --no-deps\n",
    "\n",
    "import os\n",
    "\n",
    "import efficientnet.tfkeras as efn\n",
    "import numpy as np\n",
    "import pandas as pd\n",
    "import tensorflow as tf\n",
    "\n",
    "def auto_select_accelerator():\n",
    "    try:\n",
    "        tpu = tf.distribute.cluster_resolver.TPUClusterResolver()\n",
    "        tf.config.experimental_connect_to_cluster(tpu)\n",
    "        tf.tpu.experimental.initialize_tpu_system(tpu)\n",
    "        strategy = tf.distribute.experimental.TPUStrategy(tpu)\n",
    "        print(\"Running on TPU:\", tpu.master())\n",
    "    except ValueError:\n",
    "        strategy = tf.distribute.get_strategy()\n",
    "    print(f\"Running on {strategy.num_replicas_in_sync} replicas\")\n",
    "\n",
    "    return strategy\n",
    "\n",
    "\n",
    "def build_decoder(with_labels=True, target_size=(300, 300), ext='jpg'):\n",
    "    def decode(path):\n",
    "        file_bytes = tf.io.read_file(path)\n",
    "        if ext == 'png':\n",
    "            img = tf.image.decode_png(file_bytes, channels=3)\n",
    "        elif ext in ['jpg', 'jpeg']:\n",
    "            img = tf.image.decode_jpeg(file_bytes, channels=3)\n",
    "        else:\n",
    "            raise ValueError(\"Image extension not supported\")\n",
    "\n",
    "        img = tf.cast(img, tf.float32) / 255.0\n",
    "        img = tf.image.resize(img, target_size)\n",
    "\n",
    "        return img\n",
    "\n",
    "    def decode_with_labels(path, label):\n",
    "        return decode(path), label\n",
    "\n",
    "    return decode_with_labels if with_labels else decode\n",
    "\n",
    "\n",
    "def build_augmenter(with_labels=True):\n",
    "    def augment(img):\n",
    "        img = tf.image.random_flip_left_right(img)\n",
    "        img = tf.image.random_flip_up_down(img)\n",
    "        img=tf.image.rotate(img,30)\n",
    "        img=tf.image.random_zoom(img,0.2)\n",
    "        return img\n",
    "\n",
    "    def augment_with_labels(img, label):\n",
    "        return augment(img), label\n",
    "\n",
    "    return augment_with_labels if with_labels else augment\n",
    "\n",
    "\n",
    "def build_dataset(paths, labels=None, bsize=32, cache=True,\n",
    "                  decode_fn=None, augment_fn=None,\n",
    "                  augment=True, repeat=True, shuffle=1024, \n",
    "                  cache_dir=\"\"):\n",
    "    if cache_dir != \"\" and cache is True:\n",
    "        os.makedirs(cache_dir, exist_ok=True)\n",
    "\n",
    "    if decode_fn is None:\n",
    "        decode_fn = build_decoder(labels is not None)\n",
    "\n",
    "    if augment_fn is None:\n",
    "        augment_fn = build_augmenter(labels is not None)\n",
    "\n",
    "    AUTO = tf.data.experimental.AUTOTUNE\n",
    "    slices = paths if labels is None else (paths, labels)\n",
    "\n",
    "    dset = tf.data.Dataset.from_tensor_slices(slices)\n",
    "    dset = dset.map(decode_fn, num_parallel_calls=AUTO)\n",
    "    dset = dset.cache(cache_dir) if cache else dset\n",
    "    dset = dset.map(augment_fn, num_parallel_calls=AUTO) if augment else dset\n",
    "    dset = dset.repeat() if repeat else dset\n",
    "    dset = dset.shuffle(shuffle) if shuffle else dset\n",
    "    dset = dset.batch(bsize).prefetch(AUTO)\n",
    "\n",
    "    return dset\n",
    "\n",
    "\n",
    "#COMPETITION_NAME = \"siim-cov19-test-img512-study-600\"\n",
    "strategy = auto_select_accelerator()\n",
    "BATCH_SIZE = strategy.num_replicas_in_sync * 16\n",
    "\n",
    "IMSIZE = (224, 240, 260, 300, 380, 456, 528, 600)\n",
    "\n",
    "#load_dir = f\"/kaggle/input/{COMPETITION_NAME}/\"\n",
    "sub_df = pd.read_csv('../input/siim-covid19-detection/sample_submission.csv')\n",
    "sub_df = sub_df[:study_len]\n",
    "test_paths = f'/kaggle/tmp/{split}/study/' + sub_df['id'] +'.png'\n",
    "\n",
    "sub_df['negative'] = 0\n",
    "sub_df['typical'] = 0\n",
    "sub_df['indeterminate'] = 0\n",
    "sub_df['atypical'] = 0\n",
    "\n",
    "\n",
    "label_cols = sub_df.columns[2:]\n",
    "\n",
    "test_decoder = build_decoder(with_labels=False, target_size=(IMSIZE[7], IMSIZE[7]), ext='png')\n",
    "dtest = build_dataset(\n",
    "    test_paths, bsize=BATCH_SIZE, repeat=False, \n",
    "    shuffle=False, augment=False, cache=False,\n",
    "    decode_fn=test_decoder\n",
    ")\n",
    "\n",
    "with strategy.scope():\n",
    "    \n",
    "    models = []\n",
    "    \n",
    "    models0 = tf.keras.models.load_model(\n",
    "        '../input/siim-covid19-efnb7-train-study/model0.h5'\n",
    "    )\n",
    "    models1 = tf.keras.models.load_model(\n",
    "        '../input/siim-covid19-efnb7-train-study/model1.h5'\n",
    "    )\n",
    "    models2 = tf.keras.models.load_model(\n",
    "        '../input/siim-covid19-efnb7-train-study/model2.h5'\n",
    "    )\n",
    "    models3 = tf.keras.models.load_model(\n",
    "        '../input/siim-covid19-efnb7-train-study/model3.h5'\n",
    "    )\n",
    "    models4 = tf.keras.models.load_model(\n",
    "        '../input/siim-covid19-efnb7-train-study/model4.h5'\n",
    "    )\n",
    "    \n",
    "    models.append(models0)\n",
    "    models.append(models1)\n",
    "    models.append(models2)\n",
    "    models.append(models3)\n",
    "    models.append(models4)\n",
    "\n",
    "    \n",
    "    \n",
    "    \n",
    "sub_df[label_cols] = sum([model.predict(dtest, verbose=1) for model in models]) / len(models)"
   ]
  },
  {
   "cell_type": "code",
   "execution_count": 8,
   "id": "deadly-virtue",
   "metadata": {
    "execution": {
     "iopub.execute_input": "2021-05-22T07:29:06.320259Z",
     "iopub.status.busy": "2021-05-22T07:29:06.318932Z",
     "iopub.status.idle": "2021-05-22T07:29:06.330960Z",
     "shell.execute_reply": "2021-05-22T07:29:06.330466Z",
     "shell.execute_reply.started": "2021-05-22T06:49:21.046908Z"
    },
    "papermill": {
     "duration": 0.147111,
     "end_time": "2021-05-22T07:29:06.331086",
     "exception": false,
     "start_time": "2021-05-22T07:29:06.183975",
     "status": "completed"
    },
    "tags": []
   },
   "outputs": [],
   "source": [
    "sub_df.columns = ['id', 'PredictionString1', 'negative', 'typical', 'indeterminate', 'atypical']\n",
    "df = pd.merge(df, sub_df, on = 'id', how = 'left')"
   ]
  },
  {
   "cell_type": "markdown",
   "id": "mineral-thriller",
   "metadata": {
    "papermill": {
     "duration": 0.132652,
     "end_time": "2021-05-22T07:29:06.587912",
     "exception": false,
     "start_time": "2021-05-22T07:29:06.455260",
     "status": "completed"
    },
    "tags": []
   },
   "source": [
    "# study string"
   ]
  },
  {
   "cell_type": "code",
   "execution_count": 9,
   "id": "mechanical-baking",
   "metadata": {
    "execution": {
     "iopub.execute_input": "2021-05-22T07:29:06.844481Z",
     "iopub.status.busy": "2021-05-22T07:29:06.843644Z",
     "iopub.status.idle": "2021-05-22T07:29:07.320235Z",
     "shell.execute_reply": "2021-05-22T07:29:07.319763Z",
     "shell.execute_reply.started": "2021-05-22T06:49:23.881364Z"
    },
    "papermill": {
     "duration": 0.607907,
     "end_time": "2021-05-22T07:29:07.320366",
     "exception": false,
     "start_time": "2021-05-22T07:29:06.712459",
     "status": "completed"
    },
    "tags": []
   },
   "outputs": [],
   "source": [
    "for i in range(study_len):\n",
    "    negative = df.loc[i,'negative']\n",
    "    typical = df.loc[i,'typical']\n",
    "    indeterminate = df.loc[i,'indeterminate']\n",
    "    atypical = df.loc[i,'atypical']\n",
    "    df.loc[i, 'PredictionString'] = f'negative {negative} 0 0 1 1 typical {typical} 0 0 1 1 indeterminate {indeterminate} 0 0 1 1 atypical {atypical} 0 0 1 1'"
   ]
  },
  {
   "cell_type": "code",
   "execution_count": 10,
   "id": "regulation-evidence",
   "metadata": {
    "execution": {
     "iopub.execute_input": "2021-05-22T07:29:07.574072Z",
     "iopub.status.busy": "2021-05-22T07:29:07.573536Z",
     "iopub.status.idle": "2021-05-22T07:29:07.763480Z",
     "shell.execute_reply": "2021-05-22T07:29:07.763009Z",
     "shell.execute_reply.started": "2021-05-22T06:49:25.774095Z"
    },
    "papermill": {
     "duration": 0.318484,
     "end_time": "2021-05-22T07:29:07.763607",
     "exception": false,
     "start_time": "2021-05-22T07:29:07.445123",
     "status": "completed"
    },
    "tags": []
   },
   "outputs": [
    {
     "data": {
      "text/html": [
       "<div>\n",
       "<style scoped>\n",
       "    .dataframe tbody tr th:only-of-type {\n",
       "        vertical-align: middle;\n",
       "    }\n",
       "\n",
       "    .dataframe tbody tr th {\n",
       "        vertical-align: top;\n",
       "    }\n",
       "\n",
       "    .dataframe thead th {\n",
       "        text-align: right;\n",
       "    }\n",
       "</style>\n",
       "<table border=\"1\" class=\"dataframe\">\n",
       "  <thead>\n",
       "    <tr style=\"text-align: right;\">\n",
       "      <th></th>\n",
       "      <th>id</th>\n",
       "      <th>PredictionString</th>\n",
       "    </tr>\n",
       "  </thead>\n",
       "  <tbody>\n",
       "    <tr>\n",
       "      <th>0</th>\n",
       "      <td>00188a671292_study</td>\n",
       "      <td>negative 0.7937801480293274 0 0 1 1 typical 0....</td>\n",
       "    </tr>\n",
       "    <tr>\n",
       "      <th>1</th>\n",
       "      <td>004bd59708be_study</td>\n",
       "      <td>negative 0.0020225767511874437 0 0 1 1 typical...</td>\n",
       "    </tr>\n",
       "    <tr>\n",
       "      <th>2</th>\n",
       "      <td>00508faccd39_study</td>\n",
       "      <td>negative 0.7979511022567749 0 0 1 1 typical 0....</td>\n",
       "    </tr>\n",
       "    <tr>\n",
       "      <th>3</th>\n",
       "      <td>006486aa80b2_study</td>\n",
       "      <td>negative 0.26292043924331665 0 0 1 1 typical 0...</td>\n",
       "    </tr>\n",
       "    <tr>\n",
       "      <th>4</th>\n",
       "      <td>00655178fdfc_study</td>\n",
       "      <td>negative 0.645645022392273 0 0 1 1 typical 0.1...</td>\n",
       "    </tr>\n",
       "    <tr>\n",
       "      <th>...</th>\n",
       "      <td>...</td>\n",
       "      <td>...</td>\n",
       "    </tr>\n",
       "    <tr>\n",
       "      <th>2472</th>\n",
       "      <td>46719b856de1_image</td>\n",
       "      <td>none 1 0 0 1 1</td>\n",
       "    </tr>\n",
       "    <tr>\n",
       "      <th>2473</th>\n",
       "      <td>31c07523a69a_image</td>\n",
       "      <td>none 1 0 0 1 1</td>\n",
       "    </tr>\n",
       "    <tr>\n",
       "      <th>2474</th>\n",
       "      <td>f77d7d1aebab_image</td>\n",
       "      <td>none 1 0 0 1 1</td>\n",
       "    </tr>\n",
       "    <tr>\n",
       "      <th>2475</th>\n",
       "      <td>ccc5b63ca96d_image</td>\n",
       "      <td>none 1 0 0 1 1</td>\n",
       "    </tr>\n",
       "    <tr>\n",
       "      <th>2476</th>\n",
       "      <td>5e8ac1fe2b82_image</td>\n",
       "      <td>none 1 0 0 1 1</td>\n",
       "    </tr>\n",
       "  </tbody>\n",
       "</table>\n",
       "<p>2477 rows × 2 columns</p>\n",
       "</div>"
      ],
      "text/plain": [
       "                      id                                   PredictionString\n",
       "0     00188a671292_study  negative 0.7937801480293274 0 0 1 1 typical 0....\n",
       "1     004bd59708be_study  negative 0.0020225767511874437 0 0 1 1 typical...\n",
       "2     00508faccd39_study  negative 0.7979511022567749 0 0 1 1 typical 0....\n",
       "3     006486aa80b2_study  negative 0.26292043924331665 0 0 1 1 typical 0...\n",
       "4     00655178fdfc_study  negative 0.645645022392273 0 0 1 1 typical 0.1...\n",
       "...                  ...                                                ...\n",
       "2472  46719b856de1_image                                     none 1 0 0 1 1\n",
       "2473  31c07523a69a_image                                     none 1 0 0 1 1\n",
       "2474  f77d7d1aebab_image                                     none 1 0 0 1 1\n",
       "2475  ccc5b63ca96d_image                                     none 1 0 0 1 1\n",
       "2476  5e8ac1fe2b82_image                                     none 1 0 0 1 1\n",
       "\n",
       "[2477 rows x 2 columns]"
      ]
     },
     "execution_count": 10,
     "metadata": {},
     "output_type": "execute_result"
    }
   ],
   "source": [
    "df = df[['id', 'PredictionString']]\n",
    "\n",
    "df.to_csv('submission.csv',index=False)\n",
    "df"
   ]
  },
  {
   "cell_type": "code",
   "execution_count": null,
   "id": "valued-consultancy",
   "metadata": {
    "papermill": {
     "duration": 0.12353,
     "end_time": "2021-05-22T07:29:08.011575",
     "exception": false,
     "start_time": "2021-05-22T07:29:07.888045",
     "status": "completed"
    },
    "tags": []
   },
   "outputs": [],
   "source": []
  },
  {
   "cell_type": "code",
   "execution_count": null,
   "id": "forbidden-packaging",
   "metadata": {
    "papermill": {
     "duration": 0.124378,
     "end_time": "2021-05-22T07:29:08.260844",
     "exception": false,
     "start_time": "2021-05-22T07:29:08.136466",
     "status": "completed"
    },
    "tags": []
   },
   "outputs": [],
   "source": []
  }
 ],
 "metadata": {
  "kernelspec": {
   "display_name": "Python 3",
   "language": "python",
   "name": "python3"
  },
  "language_info": {
   "codemirror_mode": {
    "name": "ipython",
    "version": 3
   },
   "file_extension": ".py",
   "mimetype": "text/x-python",
   "name": "python",
   "nbconvert_exporter": "python",
   "pygments_lexer": "ipython3",
   "version": "3.7.10"
  },
  "papermill": {
   "default_parameters": {},
   "duration": 1062.028424,
   "end_time": "2021-05-22T07:29:11.217551",
   "environment_variables": {},
   "exception": null,
   "input_path": "__notebook__.ipynb",
   "output_path": "__notebook__.ipynb",
   "parameters": {},
   "start_time": "2021-05-22T07:11:29.189127",
   "version": "2.3.3"
  },
  "widgets": {
   "application/vnd.jupyter.widget-state+json": {
    "state": {
     "16182556cb5e49b994a2e0289eb2f972": {
      "model_module": "@jupyter-widgets/controls",
      "model_module_version": "1.5.0",
      "model_name": "DescriptionStyleModel",
      "state": {
       "_model_module": "@jupyter-widgets/controls",
       "_model_module_version": "1.5.0",
       "_model_name": "DescriptionStyleModel",
       "_view_count": null,
       "_view_module": "@jupyter-widgets/base",
       "_view_module_version": "1.2.0",
       "_view_name": "StyleView",
       "description_width": ""
      }
     },
     "2ad1544439f3456e934c549186cc7df5": {
      "model_module": "@jupyter-widgets/controls",
      "model_module_version": "1.5.0",
      "model_name": "HTMLModel",
      "state": {
       "_dom_classes": [],
       "_model_module": "@jupyter-widgets/controls",
       "_model_module_version": "1.5.0",
       "_model_name": "HTMLModel",
       "_view_count": null,
       "_view_module": "@jupyter-widgets/controls",
       "_view_module_version": "1.5.0",
       "_view_name": "HTMLView",
       "description": "",
       "description_tooltip": null,
       "layout": "IPY_MODEL_8e3dff8205ef4468a8be0f0e0ffadde0",
       "placeholder": "​",
       "style": "IPY_MODEL_6b86dbb660e14eab90ef7c78cf84a60d",
       "value": " 2475/? [08:32&lt;00:00,  4.56it/s]"
      }
     },
     "6b4fac04436a4a48842ccc32bf3f1a27": {
      "model_module": "@jupyter-widgets/controls",
      "model_module_version": "1.5.0",
      "model_name": "ProgressStyleModel",
      "state": {
       "_model_module": "@jupyter-widgets/controls",
       "_model_module_version": "1.5.0",
       "_model_name": "ProgressStyleModel",
       "_view_count": null,
       "_view_module": "@jupyter-widgets/base",
       "_view_module_version": "1.2.0",
       "_view_name": "StyleView",
       "bar_color": null,
       "description_width": ""
      }
     },
     "6b86dbb660e14eab90ef7c78cf84a60d": {
      "model_module": "@jupyter-widgets/controls",
      "model_module_version": "1.5.0",
      "model_name": "DescriptionStyleModel",
      "state": {
       "_model_module": "@jupyter-widgets/controls",
       "_model_module_version": "1.5.0",
       "_model_name": "DescriptionStyleModel",
       "_view_count": null,
       "_view_module": "@jupyter-widgets/base",
       "_view_module_version": "1.2.0",
       "_view_name": "StyleView",
       "description_width": ""
      }
     },
     "7d521d8453854410841028c266752a58": {
      "model_module": "@jupyter-widgets/controls",
      "model_module_version": "1.5.0",
      "model_name": "HTMLModel",
      "state": {
       "_dom_classes": [],
       "_model_module": "@jupyter-widgets/controls",
       "_model_module_version": "1.5.0",
       "_model_name": "HTMLModel",
       "_view_count": null,
       "_view_module": "@jupyter-widgets/controls",
       "_view_module_version": "1.5.0",
       "_view_name": "HTMLView",
       "description": "",
       "description_tooltip": null,
       "layout": "IPY_MODEL_bc311c8f195e4cad98c020c235098c25",
       "placeholder": "​",
       "style": "IPY_MODEL_16182556cb5e49b994a2e0289eb2f972",
       "value": ""
      }
     },
     "87d5ccc8a67d4965a1e3f9901b972cc8": {
      "model_module": "@jupyter-widgets/controls",
      "model_module_version": "1.5.0",
      "model_name": "HBoxModel",
      "state": {
       "_dom_classes": [],
       "_model_module": "@jupyter-widgets/controls",
       "_model_module_version": "1.5.0",
       "_model_name": "HBoxModel",
       "_view_count": null,
       "_view_module": "@jupyter-widgets/controls",
       "_view_module_version": "1.5.0",
       "_view_name": "HBoxView",
       "box_style": "",
       "children": [
        "IPY_MODEL_7d521d8453854410841028c266752a58",
        "IPY_MODEL_c546d6aa682449b78a7574ca1c66dd10",
        "IPY_MODEL_2ad1544439f3456e934c549186cc7df5"
       ],
       "layout": "IPY_MODEL_f821f49df29d42bca24aa9e566ea1086"
      }
     },
     "8e3dff8205ef4468a8be0f0e0ffadde0": {
      "model_module": "@jupyter-widgets/base",
      "model_module_version": "1.2.0",
      "model_name": "LayoutModel",
      "state": {
       "_model_module": "@jupyter-widgets/base",
       "_model_module_version": "1.2.0",
       "_model_name": "LayoutModel",
       "_view_count": null,
       "_view_module": "@jupyter-widgets/base",
       "_view_module_version": "1.2.0",
       "_view_name": "LayoutView",
       "align_content": null,
       "align_items": null,
       "align_self": null,
       "border": null,
       "bottom": null,
       "display": null,
       "flex": null,
       "flex_flow": null,
       "grid_area": null,
       "grid_auto_columns": null,
       "grid_auto_flow": null,
       "grid_auto_rows": null,
       "grid_column": null,
       "grid_gap": null,
       "grid_row": null,
       "grid_template_areas": null,
       "grid_template_columns": null,
       "grid_template_rows": null,
       "height": null,
       "justify_content": null,
       "justify_items": null,
       "left": null,
       "margin": null,
       "max_height": null,
       "max_width": null,
       "min_height": null,
       "min_width": null,
       "object_fit": null,
       "object_position": null,
       "order": null,
       "overflow": null,
       "overflow_x": null,
       "overflow_y": null,
       "padding": null,
       "right": null,
       "top": null,
       "visibility": null,
       "width": null
      }
     },
     "bc311c8f195e4cad98c020c235098c25": {
      "model_module": "@jupyter-widgets/base",
      "model_module_version": "1.2.0",
      "model_name": "LayoutModel",
      "state": {
       "_model_module": "@jupyter-widgets/base",
       "_model_module_version": "1.2.0",
       "_model_name": "LayoutModel",
       "_view_count": null,
       "_view_module": "@jupyter-widgets/base",
       "_view_module_version": "1.2.0",
       "_view_name": "LayoutView",
       "align_content": null,
       "align_items": null,
       "align_self": null,
       "border": null,
       "bottom": null,
       "display": null,
       "flex": null,
       "flex_flow": null,
       "grid_area": null,
       "grid_auto_columns": null,
       "grid_auto_flow": null,
       "grid_auto_rows": null,
       "grid_column": null,
       "grid_gap": null,
       "grid_row": null,
       "grid_template_areas": null,
       "grid_template_columns": null,
       "grid_template_rows": null,
       "height": null,
       "justify_content": null,
       "justify_items": null,
       "left": null,
       "margin": null,
       "max_height": null,
       "max_width": null,
       "min_height": null,
       "min_width": null,
       "object_fit": null,
       "object_position": null,
       "order": null,
       "overflow": null,
       "overflow_x": null,
       "overflow_y": null,
       "padding": null,
       "right": null,
       "top": null,
       "visibility": null,
       "width": null
      }
     },
     "c546d6aa682449b78a7574ca1c66dd10": {
      "model_module": "@jupyter-widgets/controls",
      "model_module_version": "1.5.0",
      "model_name": "FloatProgressModel",
      "state": {
       "_dom_classes": [],
       "_model_module": "@jupyter-widgets/controls",
       "_model_module_version": "1.5.0",
       "_model_name": "FloatProgressModel",
       "_view_count": null,
       "_view_module": "@jupyter-widgets/controls",
       "_view_module_version": "1.5.0",
       "_view_name": "ProgressView",
       "bar_style": "success",
       "description": "",
       "description_tooltip": null,
       "layout": "IPY_MODEL_ede2cf4254cc42da85b1c968948418a9",
       "max": 1.0,
       "min": 0.0,
       "orientation": "horizontal",
       "style": "IPY_MODEL_6b4fac04436a4a48842ccc32bf3f1a27",
       "value": 1.0
      }
     },
     "ede2cf4254cc42da85b1c968948418a9": {
      "model_module": "@jupyter-widgets/base",
      "model_module_version": "1.2.0",
      "model_name": "LayoutModel",
      "state": {
       "_model_module": "@jupyter-widgets/base",
       "_model_module_version": "1.2.0",
       "_model_name": "LayoutModel",
       "_view_count": null,
       "_view_module": "@jupyter-widgets/base",
       "_view_module_version": "1.2.0",
       "_view_name": "LayoutView",
       "align_content": null,
       "align_items": null,
       "align_self": null,
       "border": null,
       "bottom": null,
       "display": null,
       "flex": null,
       "flex_flow": null,
       "grid_area": null,
       "grid_auto_columns": null,
       "grid_auto_flow": null,
       "grid_auto_rows": null,
       "grid_column": null,
       "grid_gap": null,
       "grid_row": null,
       "grid_template_areas": null,
       "grid_template_columns": null,
       "grid_template_rows": null,
       "height": null,
       "justify_content": null,
       "justify_items": null,
       "left": null,
       "margin": null,
       "max_height": null,
       "max_width": null,
       "min_height": null,
       "min_width": null,
       "object_fit": null,
       "object_position": null,
       "order": null,
       "overflow": null,
       "overflow_x": null,
       "overflow_y": null,
       "padding": null,
       "right": null,
       "top": null,
       "visibility": null,
       "width": "20px"
      }
     },
     "f821f49df29d42bca24aa9e566ea1086": {
      "model_module": "@jupyter-widgets/base",
      "model_module_version": "1.2.0",
      "model_name": "LayoutModel",
      "state": {
       "_model_module": "@jupyter-widgets/base",
       "_model_module_version": "1.2.0",
       "_model_name": "LayoutModel",
       "_view_count": null,
       "_view_module": "@jupyter-widgets/base",
       "_view_module_version": "1.2.0",
       "_view_name": "LayoutView",
       "align_content": null,
       "align_items": null,
       "align_self": null,
       "border": null,
       "bottom": null,
       "display": null,
       "flex": null,
       "flex_flow": null,
       "grid_area": null,
       "grid_auto_columns": null,
       "grid_auto_flow": null,
       "grid_auto_rows": null,
       "grid_column": null,
       "grid_gap": null,
       "grid_row": null,
       "grid_template_areas": null,
       "grid_template_columns": null,
       "grid_template_rows": null,
       "height": null,
       "justify_content": null,
       "justify_items": null,
       "left": null,
       "margin": null,
       "max_height": null,
       "max_width": null,
       "min_height": null,
       "min_width": null,
       "object_fit": null,
       "object_position": null,
       "order": null,
       "overflow": null,
       "overflow_x": null,
       "overflow_y": null,
       "padding": null,
       "right": null,
       "top": null,
       "visibility": null,
       "width": null
      }
     }
    },
    "version_major": 2,
    "version_minor": 0
   }
  }
 },
 "nbformat": 4,
 "nbformat_minor": 5
}
